{
 "cells": [
  {
   "cell_type": "code",
   "execution_count": null,
   "metadata": {},
   "outputs": [],
   "source": [
    "#Exercise 5-1\n",
    "#\n",
    "num1 = int(input(\"Please input number1 : \"))\n",
    "num2 = int(input(\"Please input number2 : \"))\n",
    "print (num1,\"+\",num2,\"=\",num1+num2)\n",
    "print (num1,\"-\",num2,\"=\",num1-num2)\n",
    "print (num1,\"*\",num2,\"=\",num1*num2)\n",
    "print (num1,\"/\",num2,\"=\",int(num1/num2))"
   ]
  },
  {
   "cell_type": "code",
   "execution_count": null,
   "metadata": {},
   "outputs": [],
   "source": [
    "#Exercise5-2\n",
    "s = int(input(\"Input Distance(km)\"))\n",
    "t = int(input(\"Input Time(hr)\"))\n",
    "v = int(s/t)\n",
    "print(v,\"km/hr\")"
   ]
  }
 ],
 "metadata": {
  "language_info": {
   "name": "python"
  }
 },
 "nbformat": 4,
 "nbformat_minor": 2
}
