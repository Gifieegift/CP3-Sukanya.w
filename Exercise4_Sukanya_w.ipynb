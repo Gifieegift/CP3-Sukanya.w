{
 "cells": [
  {
   "cell_type": "code",
   "execution_count": 1,
   "metadata": {},
   "outputs": [
    {
     "name": "stdout",
     "output_type": "stream",
     "text": [
      "Please input Foundation English score :\n",
      "Please input General Business score :\n",
      "Please input Introduction to Computer Systems score :\n",
      "Please input Computer Programming score :\n",
      "--- Your Score ---\n",
      "Foundation English : คะแนนที่ได้ 32.0\n",
      "General Business : คะแนนที่ได้ 34.0\n",
      "Introduction to Computer Systems : คะแนนที่ได้ 45.0\n",
      "Computer Programming : คะแนนที่ได้ 56.0\n",
      "Done\n"
     ]
    }
   ],
   "source": [
    "print(\"Please input Foundation English score :\")\n",
    "eng_score = float(input())\n",
    "print(\"Please input General Business score :\")\n",
    "biz_score = float(input())\n",
    "print(\"Please input Introduction to Computer Systems score :\")\n",
    "comsys_score = float(input())\n",
    "print(\"Please input Computer Programming score :\")\n",
    "programming_score = float(input())\n",
    "\n",
    "print(\"--- Your Score ---\")\n",
    "print(f\"Foundation English : คะแนนที่ได้ {eng_score}\")\n",
    "print(f\"General Business : คะแนนที่ได้ {biz_score}\")\n",
    "print(f\"Introduction to Computer Systems : คะแนนที่ได้ {comsys_score}\")\n",
    "print(f\"Computer Programming : คะแนนที่ได้ {programming_score}\")\n",
    "print(\"Done\")"
   ]
  },
  {
   "cell_type": "code",
   "execution_count": 10,
   "metadata": {},
   "outputs": [
    {
     "name": "stdout",
     "output_type": "stream",
     "text": [
      "5550\n"
     ]
    }
   ],
   "source": [
    "money = 150 \n",
    "incomePerDay = 300\n",
    "costPerDay = 120\n",
    "result = money + ((incomePerDay -costPerDay)*30)\n",
    "print(result)\n",
    "\n"
   ]
  },
  {
   "cell_type": "code",
   "execution_count": 12,
   "metadata": {},
   "outputs": [
    {
     "name": "stdout",
     "output_type": "stream",
     "text": [
      "True\n",
      "True\n"
     ]
    }
   ],
   "source": [
    "x = True\n",
    "y = False\n",
    "z = x or y \n",
    "print(z)\n",
    "a =10 \n",
    "b = 5\n",
    "c = a>b\n",
    "print(c)"
   ]
  },
  {
   "cell_type": "code",
   "execution_count": 14,
   "metadata": {},
   "outputs": [
    {
     "name": "stdout",
     "output_type": "stream",
     "text": [
      "5\n"
     ]
    }
   ],
   "source": [
    "a = 10 \n",
    "b =12\n",
    "c= a+b\n",
    "a -=5 \n",
    "print(a)"
   ]
  },
  {
   "cell_type": "code",
   "execution_count": 16,
   "metadata": {},
   "outputs": [
    {
     "name": "stdout",
     "output_type": "stream",
     "text": [
      "15.0\n"
     ]
    }
   ],
   "source": [
    "a = \"10\"\n",
    "b = 5\n",
    "c = float(a) +b \n",
    "print(c)"
   ]
  },
  {
   "cell_type": "code",
   "execution_count": null,
   "metadata": {},
   "outputs": [],
   "source": [
    "name = input\n",
    "Lastname = input()\n",
    "print(\"Hello\",name,Lastname)"
   ]
  },
  {
   "cell_type": "code",
   "execution_count": null,
   "metadata": {},
   "outputs": [],
   "source": []
  }
 ],
 "metadata": {
  "kernelspec": {
   "display_name": "Python 3",
   "language": "python",
   "name": "python3"
  },
  "language_info": {
   "codemirror_mode": {
    "name": "ipython",
    "version": 3
   },
   "file_extension": ".py",
   "mimetype": "text/x-python",
   "name": "python",
   "nbconvert_exporter": "python",
   "pygments_lexer": "ipython3",
   "version": "3.11.0rc2"
  }
 },
 "nbformat": 4,
 "nbformat_minor": 2
}
